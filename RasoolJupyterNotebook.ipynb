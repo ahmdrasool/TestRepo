{
 "cells": [
  {
   "cell_type": "markdown",
   "metadata": {},
   "source": [
    "<center>\n",
    "    <img src=\"https://cf-courses-data.s3.us.cloud-object-storage.appdomain.cloud/IBMDeveloperSkillsNetwork-DS0105EN-SkillsNetwork/labs/Module2/images/SN_web_lightmode.png\" width=\"300\" alt=\"cognitiveclass.ai logo\">\n",
    "</center>\n"
   ]
  },
  {
   "cell_type": "code",
   "execution_count": 4,
   "metadata": {},
   "outputs": [],
   "source": [
    "# Title of the notebook"
   ]
  },
  {
   "cell_type": "markdown",
   "metadata": {},
   "source": [
    "Mark down Cell"
   ]
  },
  {
   "cell_type": "markdown",
   "metadata": {},
   "source": [
    "Data Science languages are \n",
    "Python\n",
    "R\n",
    "SQL\n",
    "Java\n",
    "Scala"
   ]
  },
  {
   "cell_type": "markdown",
   "metadata": {},
   "source": [
    "# Data Science Libraries\n",
    "\n",
    "Here's a list of popular libraries used in data science:\n",
    "\n",
    "*   **<<!nav>>NumPy<<!/nav>>:** For numerical computing, including array operations and linear algebra.\n",
    "*   **<<!nav>>Pandas<<!/nav>>:** For data manipulation and analysis, especially with DataFrames.\n",
    "*   **<<!nav>>Matplotlib<<!/nav>>:** For creating static, interactive, and animated visualizations in Python.\n",
    "*   **<<!nav>>Scikit-learn<<!/nav>>:** A comprehensive library for machine learning tasks like classification, regression, clustering, and dimensionality reduction.\n",
    "*   **<<!nav>>TensorFlow<<!/nav>>:** An open-source machine learning framework developed by Google, primarily used for deep learning.\n",
    "*   **<<!nav>>PyTorch<<!/nav>>:** Another popular deep learning framework, known for its flexibility and dynamic computation graph."
   ]
  },
  {
   "cell_type": "markdown",
   "metadata": {},
   "source": [
    "Here is a table of common data science tools, formatted in Markdown: \n",
    "| Category | Tool | Description|\n",
    "| -------- | ------- | ------- |\n",
    "| Programming Languages | Python| A versatile language used for data analysis, machine learning, and more.| \n",
    "| ---| R| A language specifically designed for statistical computing and graphics.| \n",
    "| Data Manipulation & Analysis| Pandas|Python library for data manipulation and analysis, offering data structures like DataFrames.| \n",
    "| ---| NumPy| Python library for numerical computing, providing support for large, multi-dimensional arrays and matrices.|\n",
    "\n"
   ]
  },
  {
   "cell_type": "markdown",
   "metadata": {},
   "source": [
    "# Basic Operations:\n",
    "* Addition: 2 + 3 results in 5\n",
    "* Subtraction: 5 - 2 results in 3\n",
    "* Multiplication: 4 * 5 results in 20\n",
    "* Division: 10 / 2 results in 5.0\n",
    "* Exponentiation: 2 ** 3 results in 8 (2 to the power of 3) \n"
   ]
  },
  {
   "cell_type": "code",
   "execution_count": 17,
   "metadata": {},
   "outputs": [
    {
     "data": {
      "text/plain": [
       "20"
      ]
     },
     "execution_count": 17,
     "metadata": {},
     "output_type": "execute_result"
    }
   ],
   "source": [
    "# Create a code cell to multiply and add numbers.\n",
    "5*3 +5"
   ]
  },
  {
   "cell_type": "code",
   "execution_count": 25,
   "metadata": {},
   "outputs": [
    {
     "name": "stdout",
     "output_type": "stream",
     "text": [
      "150 minutes is equal to 2.5 hours\n"
     ]
    }
   ],
   "source": [
    "# Create a code cell to convert minutes to hours. \n",
    "minutes = 150  # Example: 150 minutes\n",
    "hours = minutes / 60\n",
    "\n",
    "print(f\"{minutes} minutes is equal to {hours} hours\")"
   ]
  },
  {
   "cell_type": "markdown",
   "metadata": {},
   "source": [
    "# Objectives\n",
    "\n",
    "*   Understand how to insert Markdown cells.\n",
    "*   Learn how to format text using Markdown.\n",
    "*   List at least three learning goals."
   ]
  },
  {
   "cell_type": "markdown",
   "metadata": {},
   "source": [
    "## Author\n",
    "My Sweet Name!"
   ]
  },
  {
   "cell_type": "code",
   "execution_count": null,
   "metadata": {},
   "outputs": [],
   "source": []
  }
 ],
 "metadata": {
  "kernelspec": {
   "display_name": "Python 3 (ipykernel)",
   "language": "python",
   "name": "python3"
  },
  "language_info": {
   "codemirror_mode": {
    "name": "ipython",
    "version": 3
   },
   "file_extension": ".py",
   "mimetype": "text/x-python",
   "name": "python",
   "nbconvert_exporter": "python",
   "pygments_lexer": "ipython3",
   "version": "3.12.8"
  }
 },
 "nbformat": 4,
 "nbformat_minor": 4
}
